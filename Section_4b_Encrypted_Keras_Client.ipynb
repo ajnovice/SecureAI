{
  "nbformat": 4,
  "nbformat_minor": 0,
  "metadata": {
    "kernelspec": {
      "display_name": "Python 3",
      "language": "python",
      "name": "python3"
    },
    "language_info": {
      "codemirror_mode": {
        "name": "ipython",
        "version": 3
      },
      "file_extension": ".py",
      "mimetype": "text/x-python",
      "name": "python",
      "nbconvert_exporter": "python",
      "pygments_lexer": "ipython3",
      "version": "3.6.1"
    },
    "colab": {
      "name": "Section 4b - Encrypted Keras Client.ipynb",
      "version": "0.3.2",
      "provenance": []
    }
  },
  "cells": [
    {
      "cell_type": "markdown",
      "metadata": {
        "id": "lFhwAEL69Umw",
        "colab_type": "text"
      },
      "source": [
        "# Step 2: Private Prediction using Syft Keras - Serving (Client)\n",
        "\n",
        "_Demo Ref: https://github.com/OpenMined/PySyft/tree/dev/examples/tutorials_\n",
        "\n",
        "Congratulations! After training your model with normal Keras and securing it with Syft Keras, you are ready to request some private predictions. "
      ]
    },
    {
      "cell_type": "code",
      "metadata": {
        "id": "qJPxWUsv9Um2",
        "colab_type": "code",
        "colab": {}
      },
      "source": [
        "import numpy as np\n",
        "import tensorflow as tf\n",
        "from tensorflow.keras.datasets import mnist\n",
        "\n",
        "import syft as sy"
      ],
      "execution_count": 0,
      "outputs": []
    },
    {
      "cell_type": "code",
      "metadata": {
        "id": "UXBksSQG9UnF",
        "colab_type": "code",
        "colab": {}
      },
      "source": [
        "# input image dimensions\n",
        "img_rows, img_cols = 28, 28\n",
        "\n",
        "# the data, split between train and test sets\n",
        "(x_train, y_train), (x_test, y_test) = mnist.load_data()\n",
        "\n",
        "x_train = x_train.reshape(x_train.shape[0], img_rows, img_cols, 1)\n",
        "x_test = x_test.reshape(x_test.shape[0], img_rows, img_cols, 1)\n",
        "input_shape = (img_rows, img_cols, 1)\n",
        "\n",
        "x_train = x_train.astype('float32')\n",
        "x_test = x_test.astype('float32')\n",
        "x_train /= 255\n",
        "x_test /= 255"
      ],
      "execution_count": 0,
      "outputs": []
    },
    {
      "cell_type": "code",
      "metadata": {
        "id": "AaA_j38g9UnP",
        "colab_type": "code",
        "colab": {}
      },
      "source": [
        "num_classes = 10\n",
        "input_shape = (1, 28, 28, 1)\n",
        "output_shape = (1, num_classes)"
      ],
      "execution_count": 0,
      "outputs": []
    },
    {
      "cell_type": "code",
      "metadata": {
        "id": "W3zxqsmu9UnW",
        "colab_type": "code",
        "colab": {},
        "outputId": "85d75366-a8c5-4f26-dbe0-0d4ec7df6811"
      },
      "source": [
        "client = sy.TFEWorker()\n",
        "\n",
        "alice = sy.TFEWorker(host='localhost:4000')\n",
        "bob = sy.TFEWorker(host='localhost:4001')\n",
        "carol = sy.TFEWorker(host='localhost:4002')\n",
        "\n",
        "client.connect_to_model(input_shape, output_shape, alice, bob, carol)"
      ],
      "execution_count": 0,
      "outputs": [
        {
          "output_type": "stream",
          "text": [
            "INFO:tf_encrypted:Starting session on target 'grpc://localhost:4000' using config graph_options {\n",
            "}\n",
            "\n"
          ],
          "name": "stderr"
        }
      ]
    },
    {
      "cell_type": "code",
      "metadata": {
        "id": "R-YTKFav9Unf",
        "colab_type": "code",
        "colab": {}
      },
      "source": [
        "# User inputs\n",
        "num_tests = 3\n",
        "images, expected_labels = x_test[:num_tests], y_test[:num_tests]"
      ],
      "execution_count": 0,
      "outputs": []
    },
    {
      "cell_type": "code",
      "metadata": {
        "id": "iMURfwfO9Unj",
        "colab_type": "code",
        "colab": {},
        "outputId": "219e9020-0622-4b50-c157-0924e1a4b14a"
      },
      "source": [
        "for image, expected_label in zip(images, expected_labels):\n",
        "\n",
        "    res = client.query_model(image.reshape(1, 28, 28, 1))\n",
        "    predicted_label = np.argmax(res)\n",
        "\n",
        "    print(\"The image had label {} and was {} classified as {}\".format(\n",
        "        expected_label,\n",
        "        \"correctly\" if expected_label == predicted_label else \"wrongly\",\n",
        "        predicted_label))"
      ],
      "execution_count": 0,
      "outputs": [
        {
          "output_type": "stream",
          "text": [
            "The image had label 7 and was correctly classified as 7\n",
            "The image had label 2 and was correctly classified as 2\n",
            "The image had label 1 and was correctly classified as 1\n"
          ],
          "name": "stdout"
        }
      ]
    },
    {
      "cell_type": "code",
      "metadata": {
        "id": "t7poHyW59Uno",
        "colab_type": "code",
        "colab": {}
      },
      "source": [
        ""
      ],
      "execution_count": 0,
      "outputs": []
    }
  ]
}